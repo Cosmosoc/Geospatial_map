{
 "cells": [
  {
   "cell_type": "code",
   "execution_count": 48,
   "id": "fd949feb-ec28-496d-bdc6-0b6bba41890c",
   "metadata": {},
   "outputs": [
    {
     "name": "stderr",
     "output_type": "stream",
     "text": [
      "No model was supplied, defaulted to dbmdz/bert-large-cased-finetuned-conll03-english and revision 4c53496 (https://huggingface.co/dbmdz/bert-large-cased-finetuned-conll03-english).\n",
      "Using a pipeline without specifying a model name and revision in production is not recommended.\n",
      "Some weights of the model checkpoint at dbmdz/bert-large-cased-finetuned-conll03-english were not used when initializing BertForTokenClassification: ['bert.pooler.dense.bias', 'bert.pooler.dense.weight']\n",
      "- This IS expected if you are initializing BertForTokenClassification from the checkpoint of a model trained on another task or with another architecture (e.g. initializing a BertForSequenceClassification model from a BertForPreTraining model).\n",
      "- This IS NOT expected if you are initializing BertForTokenClassification from the checkpoint of a model that you expect to be exactly identical (initializing a BertForSequenceClassification model from a BertForSequenceClassification model).\n",
      "/home/sds/geospatial-map/lib/python3.10/site-packages/transformers/pipelines/token_classification.py:170: UserWarning: `grouped_entities` is deprecated and will be removed in version v5.0.0, defaulted to `aggregation_strategy=\"simple\"` instead.\n",
      "  warnings.warn(\n"
     ]
    }
   ],
   "source": [
    "from transformers import pipeline\n",
    "\n",
    "commands = [\n",
    "    \"zoom in to Delhi\",\n",
    "    \"zoom out of Lucknow\",\n",
    "    \"find directions to Bangalore\",\n",
    "    \"navigate to New York\",\n",
    "    \"look out for Dharwad\"\n",
    "]\n",
    "ner = pipeline(\"ner\", grouped_entities=True)\n"
   ]
  },
  {
   "cell_type": "code",
   "execution_count": 49,
   "id": "5cc8a2b3-1f92-40fd-b8de-73be886766e6",
   "metadata": {},
   "outputs": [
    {
     "name": "stdout",
     "output_type": "stream",
     "text": [
      "Original Command: 'zoom in to Delhi' => Cleaned Command: 'zoom_in to'\n",
      "Original Command: 'zoom out of Lucknow' => Cleaned Command: 'zoom_out of'\n",
      "Original Command: 'find directions to Bangalore' => Cleaned Command: 'find directions to'\n",
      "Original Command: 'navigate to New York' => Cleaned Command: 'navigate to'\n",
      "Original Command: 'look out for Dharwad' => Cleaned Command: 'look out for wad'\n"
     ]
    }
   ],
   "source": [
    "import re\n",
    "def remove_ner_entities(command):\n",
    "    ner_results = ner(command)\n",
    "    # Extracting the entities\n",
    "    entities = [entity['word'] for entity in ner_results]\n",
    "    # Removing entities from command\n",
    "    for entity in entities:\n",
    "        command = command.replace(entity, '').strip()\n",
    "    return command\n",
    "cleaned_commands = []    \n",
    "# Process commands\n",
    "for command in commands:\n",
    "    cleaned_command = remove_ner_entities(command)\n",
    "    cleaned_command = re.sub(r'\\bzoom in\\b', 'zoom_in', cleaned_command, flags=re.IGNORECASE)    # Store cleaned command\n",
    "    cleaned_command = re.sub(r'\\bzoom out\\b', 'zoom_out', cleaned_command, flags=re.IGNORECASE)    # Store cleaned command\n",
    "\n",
    "    cleaned_commands.append(cleaned_command)\n",
    "\n",
    "    print(f\"Original Command: '{command}' => Cleaned Command: '{cleaned_command}'\")"
   ]
  },
  {
   "cell_type": "code",
   "execution_count": 50,
   "id": "bea0bbd3-6812-46a6-bfb8-17079dc449aa",
   "metadata": {},
   "outputs": [
    {
     "name": "stdout",
     "output_type": "stream",
     "text": [
      "Original Command: zoom in to Delhi\n",
      "Filtered Command (without stop words): zoom_in\n",
      "\n",
      "Original Command: zoom out of Lucknow\n",
      "Filtered Command (without stop words): zoom_out\n",
      "\n",
      "Original Command: find directions to Bangalore\n",
      "Filtered Command (without stop words): find directions\n",
      "\n",
      "Original Command: navigate to New York\n",
      "Filtered Command (without stop words): navigate\n",
      "\n",
      "Original Command: look out for Dharwad\n",
      "Filtered Command (without stop words): look wad\n",
      "\n"
     ]
    },
    {
     "name": "stderr",
     "output_type": "stream",
     "text": [
      "[nltk_data] Downloading package stopwords to /home/sds/nltk_data...\n",
      "[nltk_data]   Package stopwords is already up-to-date!\n"
     ]
    }
   ],
   "source": [
    "import nltk\n",
    "from nltk.corpus import stopwords\n",
    "\n",
    "# Download stop words once\n",
    "nltk.download('stopwords')\n",
    "\n",
    "# Get the list of English stop words\n",
    "stop_words = set(stopwords.words('english'))\n",
    "\n",
    "# Function to remove stop words from a command\n",
    "def remove_stopwords(command):\n",
    "    words = command.split()  # Split the command into words\n",
    "    filtered_words = [word for word in words if word.lower() not in stop_words]  # Remove stop words\n",
    "    return \" \".join(filtered_words)\n",
    "\n",
    "# Function to remove stop words from a list of commands\n",
    "def process_commands(commands):\n",
    "    filtered_commands = [remove_stopwords(command) for command in commands]\n",
    "    return filtered_commands\n",
    "\n",
    "filtered_commands = process_commands(cleaned_commands)\n",
    "\n",
    "# Print original and filtered commands\n",
    "for original, filtered in zip(commands, filtered_commands):\n",
    "    print(f\"Original Command: {original}\")\n",
    "    print(f\"Filtered Command (without stop words): {filtered}\")\n",
    "    print()\n"
   ]
  },
  {
   "cell_type": "code",
   "execution_count": 51,
   "id": "cee9d248-8e5e-49e0-8a7a-55e7687c08e8",
   "metadata": {},
   "outputs": [],
   "source": [
    "import torch\n",
    "from transformers import BertTokenizer, BertModel\n",
    "from sklearn.metrics.pairwise import cosine_similarity\n",
    "\n",
    "# Load pre-trained BERT tokenizer and model\n",
    "tokenizer = BertTokenizer.from_pretrained('bert-base-uncased')\n",
    "model = BertModel.from_pretrained('bert-base-uncased')\n",
    "\n",
    "def get_embedding(word):\n",
    "    # Tokenize and get embeddings for a word\n",
    "    inputs = tokenizer(word, return_tensors=\"pt\")\n",
    "    outputs = model(**inputs)\n",
    "    # The BERT model returns multiple embeddings; we take the mean of the last hidden state\n",
    "    return torch.mean(outputs.last_hidden_state, dim=1).detach().numpy()\n",
    "\n",
    "def classify_command_with_best_match(command):\n",
    "    # Define target keywords and their respective actions\n",
    "    target_keywords = {\n",
    "        \"zoom_in\": \"Zoom_IN\",\n",
    "        \"zoom_out\": \"Zoom_OUT\",\n",
    "        \"directions\": \"Directions\",\n",
    "        \"search\": \"Search\"\n",
    "    }\n",
    "    \n",
    "    # Get embeddings for all target keywords\n",
    "    target_embeddings = {word: get_embedding(word) for word in target_keywords}\n",
    "    \n",
    "    # Split the command into words\n",
    "    words_in_command = command.split()\n",
    "\n",
    "    # Initialize an empty list to store the similarity matrix\n",
    "    similarity_matrix = []\n",
    "\n",
    "    # Store the best matching word for each target keyword\n",
    "    best_matches = {key: {\"word\": None, \"similarity\": 0.0} for key in target_keywords}\n",
    "\n",
    "    # Loop over each word in the command\n",
    "    for word in words_in_command:\n",
    "        word_embedding = get_embedding(word)\n",
    "        \n",
    "        # List to store similarities for the current word\n",
    "        word_similarities = []\n",
    "        \n",
    "        # Compare the word's embedding with all target embeddings\n",
    "        for target_word, target_embedding in target_embeddings.items():\n",
    "            similarity = cosine_similarity(word_embedding, target_embedding)[0][0]  # Extract scalar value\n",
    "            word_similarities.append(similarity)  # Add similarity score to the list for this word\n",
    "\n",
    "            # Check if this word is the best match for the current target_word\n",
    "            if similarity > best_matches[target_word][\"similarity\"]:\n",
    "                best_matches[target_word][\"similarity\"] = similarity\n",
    "                best_matches[target_word][\"word\"] = word\n",
    "        \n",
    "        # Add the similarity list for the current word to the matrix\n",
    "        similarity_matrix.append(word_similarities)\n",
    "    \n",
    "    # Return the similarity matrix, target keywords, and the best match for each target keyword\n",
    "    return similarity_matrix, list(target_keywords.keys()), best_matches\n",
    "\n",
    "# Example usage with a list of commands\n",
    "commands =filtered_commands\n",
    "\n",
    "# Run the classification with best match detection\n"
   ]
  },
  {
   "cell_type": "code",
   "execution_count": 53,
   "id": "7563da57-b6d5-49f6-8b2b-2ef10ed32196",
   "metadata": {},
   "outputs": [
    {
     "data": {
      "text/plain": [
       "['zoom_in', 'zoom_out', 'find directions', 'navigate', 'look wad']"
      ]
     },
     "execution_count": 53,
     "metadata": {},
     "output_type": "execute_result"
    }
   ],
   "source": [
    "filtered_commands"
   ]
  },
  {
   "cell_type": "code",
   "execution_count": 71,
   "id": "4c0c51ec-cf59-48d0-bbca-4e0a728ef758",
   "metadata": {},
   "outputs": [
    {
     "name": "stdout",
     "output_type": "stream",
     "text": [
      "[[0.9999999, 0.9160377, 0.5723879, 0.6037229]]\n",
      "['zoom_in', 'zoom_out', 'directions', 'search']\n",
      "{'zoom_in': {'word': 'zoom_in', 'similarity': 0.9999999}, 'zoom_out': {'word': 'zoom_in', 'similarity': 0.9160377}, 'directions': {'word': 'zoom_in', 'similarity': 0.5723879}, 'search': {'word': 'zoom_in', 'similarity': 0.6037229}}\n",
      "\n",
      "\n",
      "[[0.9160377, 1.0000001, 0.56481737, 0.6461116]]\n",
      "['zoom_in', 'zoom_out', 'directions', 'search']\n",
      "{'zoom_in': {'word': 'zoom_out', 'similarity': 0.9160377}, 'zoom_out': {'word': 'zoom_out', 'similarity': 1.0000001}, 'directions': {'word': 'zoom_out', 'similarity': 0.56481737}, 'search': {'word': 'zoom_out', 'similarity': 0.6461116}}\n",
      "\n",
      "\n",
      "[[0.6297178, 0.64237964, 0.8288053, 0.88562953], [0.5723879, 0.56481737, 1.0000002, 0.7762666]]\n",
      "['zoom_in', 'zoom_out', 'directions', 'search']\n",
      "{'zoom_in': {'word': 'find', 'similarity': 0.6297178}, 'zoom_out': {'word': 'find', 'similarity': 0.64237964}, 'directions': {'word': 'directions', 'similarity': 1.0000002}, 'search': {'word': 'find', 'similarity': 0.88562953}}\n",
      "\n",
      "\n",
      "[[0.6223519, 0.65895855, 0.8342874, 0.86682457]]\n",
      "['zoom_in', 'zoom_out', 'directions', 'search']\n",
      "{'zoom_in': {'word': 'navigate', 'similarity': 0.6223519}, 'zoom_out': {'word': 'navigate', 'similarity': 0.65895855}, 'directions': {'word': 'navigate', 'similarity': 0.8342874}, 'search': {'word': 'navigate', 'similarity': 0.86682457}}\n",
      "\n",
      "\n",
      "[[0.6087385, 0.6257511, 0.82745343, 0.8460685], [0.58881915, 0.6047505, 0.68561053, 0.6428073]]\n",
      "['zoom_in', 'zoom_out', 'directions', 'search']\n",
      "{'zoom_in': {'word': 'look', 'similarity': 0.6087385}, 'zoom_out': {'word': 'look', 'similarity': 0.6257511}, 'directions': {'word': 'look', 'similarity': 0.82745343}, 'search': {'word': 'look', 'similarity': 0.8460685}}\n",
      "\n",
      "\n"
     ]
    }
   ],
   "source": [
    "for command in commands:\n",
    "    similarity_matrix, target_words, best_matches = classify_command_with_best_match(command)\n",
    "    print(similarity_matrix)\n",
    "    print(target_words)\n",
    "    print(best_matches)\n",
    "    print(\"\\n\")"
   ]
  },
  {
   "cell_type": "code",
   "execution_count": 72,
   "id": "1d77e84e-9f9c-46c6-8aa6-c3c0fd18f5ce",
   "metadata": {},
   "outputs": [
    {
     "data": {
      "text/plain": [
       "dict_items([('zoom_in', {'word': 'look', 'similarity': 0.6087385}), ('zoom_out', {'word': 'look', 'similarity': 0.6257511}), ('directions', {'word': 'look', 'similarity': 0.82745343}), ('search', {'word': 'look', 'similarity': 0.8460685})])"
      ]
     },
     "execution_count": 72,
     "metadata": {},
     "output_type": "execute_result"
    }
   ],
   "source": [
    "    best_matches.items()"
   ]
  },
  {
   "cell_type": "code",
   "execution_count": 86,
   "id": "9fc2f4c3-c543-4edb-9b10-ec9dba82f4ab",
   "metadata": {},
   "outputs": [
    {
     "name": "stdout",
     "output_type": "stream",
     "text": [
      "\n",
      "Command: zoom_in\n",
      "The command with the highest similarity for 'zoom_in': 'zoom_in' (Similarity: 1.0000)\n",
      "\n",
      "Command: zoom_out\n",
      "The command with the highest similarity for 'zoom_out': 'zoom_out' (Similarity: 1.0000)\n",
      "\n",
      "Command: find directions\n",
      "The command with the highest similarity for 'find directions': 'directions' (Similarity: 1.0000)\n",
      "\n",
      "Command: navigate\n",
      "The command with the highest similarity for 'navigate': 'search' (Similarity: 0.8668)\n",
      "\n",
      "Command: look wad\n",
      "The command with the highest similarity for 'look wad': 'search' (Similarity: 0.8461)\n"
     ]
    }
   ],
   "source": [
    "for command in commands:\n",
    "    similarity_matrix, target_words, best_matches = classify_command_with_best_match(command)\n",
    "\n",
    "    highest_similarity = 0\n",
    "    best_match_target_word = None  # Store the target word instead of the actual command\n",
    "\n",
    "    print(f\"\\nCommand: {command}\")\n",
    "    \n",
    "    for target_word, match_info in best_matches.items():\n",
    "        # Print out the match information for each target word\n",
    "        \n",
    "        # Check for the highest similarity\n",
    "        if match_info['similarity'] > highest_similarity:\n",
    "            highest_similarity = match_info['similarity']\n",
    "            best_match_target_word = target_word  # Update to store the target word\n",
    "\n",
    "    # Print the target word with the highest similarity for this command\n",
    "    print(f\"The command with the highest similarity for '{command}': '{best_match_target_word}' (Similarity: {highest_similarity:.4f})\")\n"
   ]
  },
  {
   "cell_type": "code",
   "execution_count": null,
   "id": "ed2ce453-8f88-450b-a764-ed74079e6b69",
   "metadata": {},
   "outputs": [],
   "source": []
  }
 ],
 "metadata": {
  "kernelspec": {
   "display_name": "Python 3 (ipykernel)",
   "language": "python",
   "name": "python3"
  },
  "language_info": {
   "codemirror_mode": {
    "name": "ipython",
    "version": 3
   },
   "file_extension": ".py",
   "mimetype": "text/x-python",
   "name": "python",
   "nbconvert_exporter": "python",
   "pygments_lexer": "ipython3",
   "version": "3.10.12"
  }
 },
 "nbformat": 4,
 "nbformat_minor": 5
}
