{
 "cells": [
  {
   "cell_type": "code",
   "execution_count": 4,
   "id": "62679888-8fca-45f9-979f-bd1b437df86a",
   "metadata": {},
   "outputs": [
    {
     "name": "stdout",
     "output_type": "stream",
     "text": [
      "Hello World\n"
     ]
    }
   ],
   "source": [
    "print(\"Hello World\")"
   ]
  },
  {
   "cell_type": "code",
   "execution_count": 5,
   "id": "497ad850-58e2-40c3-a3d5-c815a3f3496f",
   "metadata": {},
   "outputs": [],
   "source": [
    "import tensorflow_hub as hub\n"
   ]
  },
  {
   "cell_type": "code",
   "execution_count": 6,
   "id": "44e79ea7-11dc-49b6-9946-a044aaabd8ef",
   "metadata": {},
   "outputs": [],
   "source": [
    "import tensorflow_text as text"
   ]
  },
  {
   "cell_type": "code",
   "execution_count": 7,
   "id": "1a7212d7-070a-4701-adf2-23b1e31a5765",
   "metadata": {},
   "outputs": [],
   "source": [
    "preprocess_url = \"https://tfhub.dev/tensorflow/bert_en_uncased_preprocess/3\"\n",
    "encoder_url = \"https://tfhub.dev/tensorflow/bert_en_uncased_L-12_H-768_A-12/4\"\n"
   ]
  },
  {
   "cell_type": "code",
   "execution_count": 8,
   "id": "aec0af3a-b81b-47bd-abb6-77223a66cb43",
   "metadata": {},
   "outputs": [],
   "source": [
    "bert_preprocess_model = hub.KerasLayer(preprocess_url)"
   ]
  },
  {
   "cell_type": "code",
   "execution_count": 97,
   "id": "6d20db9d-bf6c-493a-86ba-a1d3dac2600a",
   "metadata": {},
   "outputs": [
    {
     "data": {
      "text/plain": [
       "dict_keys(['input_type_ids', 'input_mask', 'input_word_ids'])"
      ]
     },
     "execution_count": 97,
     "metadata": {},
     "output_type": "execute_result"
    }
   ],
   "source": [
    "text_test = ['I am Dev','I am Dev']\n",
    "text_preprocessed = bert_preprocess_model(text_test)\n",
    "text_preprocessed.keys()"
   ]
  },
  {
   "cell_type": "code",
   "execution_count": 98,
   "id": "b9d836cd-6f2e-417e-9950-12ba2354da9d",
   "metadata": {
    "scrolled": true
   },
   "outputs": [
    {
     "data": {
      "text/plain": [
       "<tf.Tensor: shape=(2, 128), dtype=int32, numpy=\n",
       "array([[  101,  1045,  2572, 16475,   102,     0,     0,     0,     0,\n",
       "            0,     0,     0,     0,     0,     0,     0,     0,     0,\n",
       "            0,     0,     0,     0,     0,     0,     0,     0,     0,\n",
       "            0,     0,     0,     0,     0,     0,     0,     0,     0,\n",
       "            0,     0,     0,     0,     0,     0,     0,     0,     0,\n",
       "            0,     0,     0,     0,     0,     0,     0,     0,     0,\n",
       "            0,     0,     0,     0,     0,     0,     0,     0,     0,\n",
       "            0,     0,     0,     0,     0,     0,     0,     0,     0,\n",
       "            0,     0,     0,     0,     0,     0,     0,     0,     0,\n",
       "            0,     0,     0,     0,     0,     0,     0,     0,     0,\n",
       "            0,     0,     0,     0,     0,     0,     0,     0,     0,\n",
       "            0,     0,     0,     0,     0,     0,     0,     0,     0,\n",
       "            0,     0,     0,     0,     0,     0,     0,     0,     0,\n",
       "            0,     0,     0,     0,     0,     0,     0,     0,     0,\n",
       "            0,     0],\n",
       "       [  101,  1045,  2572, 16475,   102,     0,     0,     0,     0,\n",
       "            0,     0,     0,     0,     0,     0,     0,     0,     0,\n",
       "            0,     0,     0,     0,     0,     0,     0,     0,     0,\n",
       "            0,     0,     0,     0,     0,     0,     0,     0,     0,\n",
       "            0,     0,     0,     0,     0,     0,     0,     0,     0,\n",
       "            0,     0,     0,     0,     0,     0,     0,     0,     0,\n",
       "            0,     0,     0,     0,     0,     0,     0,     0,     0,\n",
       "            0,     0,     0,     0,     0,     0,     0,     0,     0,\n",
       "            0,     0,     0,     0,     0,     0,     0,     0,     0,\n",
       "            0,     0,     0,     0,     0,     0,     0,     0,     0,\n",
       "            0,     0,     0,     0,     0,     0,     0,     0,     0,\n",
       "            0,     0,     0,     0,     0,     0,     0,     0,     0,\n",
       "            0,     0,     0,     0,     0,     0,     0,     0,     0,\n",
       "            0,     0,     0,     0,     0,     0,     0,     0,     0,\n",
       "            0,     0]], dtype=int32)>"
      ]
     },
     "execution_count": 98,
     "metadata": {},
     "output_type": "execute_result"
    }
   ],
   "source": [
    "text_preprocessed['input_word_ids']"
   ]
  },
  {
   "cell_type": "code",
   "execution_count": 99,
   "id": "36f416f1-2375-4f65-aba5-fca3e9f32997",
   "metadata": {
    "jupyter": {
     "source_hidden": true
    }
   },
   "outputs": [],
   "source": [
    "bert_model = hub.KerasLayer(encoder_url)"
   ]
  },
  {
   "cell_type": "code",
   "execution_count": 100,
   "id": "3adbe075-9869-415a-b4d0-92cd55c4ec50",
   "metadata": {},
   "outputs": [],
   "source": [
    "bert_results = bert_model(text_preprocessed)"
   ]
  },
  {
   "cell_type": "code",
   "execution_count": 101,
   "id": "59b4d159-9fdf-4461-9abc-3edbdf681337",
   "metadata": {},
   "outputs": [
    {
     "data": {
      "text/plain": [
       "dict_keys(['pooled_output', 'sequence_output', 'encoder_outputs', 'default'])"
      ]
     },
     "execution_count": 101,
     "metadata": {},
     "output_type": "execute_result"
    }
   ],
   "source": [
    "bert_results.keys()"
   ]
  },
  {
   "cell_type": "code",
   "execution_count": 102,
   "id": "41199c33-2ba3-4a0a-99f0-796e7d61acb2",
   "metadata": {},
   "outputs": [
    {
     "data": {
      "text/plain": [
       "<tf.Tensor: shape=(2, 128, 768), dtype=float32, numpy=\n",
       "array([[[ 0.01838351,  0.38482517,  0.06968008, ..., -0.09037483,\n",
       "          0.1662078 ,  0.13959771],\n",
       "        [ 0.20669919,  0.28990418,  0.28494158, ..., -0.17058128,\n",
       "          0.74460214,  0.24932578],\n",
       "        [-0.01929044, -0.13073239,  0.10871704, ...,  0.13989496,\n",
       "          0.8067612 ,  0.14132564],\n",
       "        ...,\n",
       "        [ 0.34129933, -0.04352018,  0.43873808, ...,  0.03300644,\n",
       "         -0.00254342,  0.0122118 ],\n",
       "        [ 0.342381  , -0.10944676,  0.35078356, ...,  0.06117718,\n",
       "         -0.06392184, -0.02041232],\n",
       "        [ 0.15711905, -0.20284602,  0.32967615, ...,  0.16531467,\n",
       "         -0.12976128, -0.16543707]],\n",
       "\n",
       "       [[ 0.01838351,  0.38482517,  0.06968008, ..., -0.09037483,\n",
       "          0.1662078 ,  0.13959771],\n",
       "        [ 0.20669919,  0.28990418,  0.28494158, ..., -0.17058128,\n",
       "          0.74460214,  0.24932578],\n",
       "        [-0.01929044, -0.13073239,  0.10871704, ...,  0.13989496,\n",
       "          0.8067612 ,  0.14132564],\n",
       "        ...,\n",
       "        [ 0.34129933, -0.04352018,  0.43873808, ...,  0.03300644,\n",
       "         -0.00254342,  0.0122118 ],\n",
       "        [ 0.342381  , -0.10944676,  0.35078356, ...,  0.06117718,\n",
       "         -0.06392184, -0.02041232],\n",
       "        [ 0.15711905, -0.20284602,  0.32967615, ...,  0.16531467,\n",
       "         -0.12976128, -0.16543707]]], dtype=float32)>"
      ]
     },
     "execution_count": 102,
     "metadata": {},
     "output_type": "execute_result"
    }
   ],
   "source": [
    "bert_results['sed_output']\n",
    "\n"
   ]
  },
  {
   "cell_type": "code",
   "execution_count": 103,
   "id": "b976c304-51aa-499e-bc98-c0a9888879ea",
   "metadata": {},
   "outputs": [
    {
     "ename": "NameError",
     "evalue": "name 'keywords1' is not defined",
     "output_type": "error",
     "traceback": [
      "\u001b[0;31m---------------------------------------------------------------------------\u001b[0m",
      "\u001b[0;31mNameError\u001b[0m                                 Traceback (most recent call last)",
      "Cell \u001b[0;32mIn[103], line 7\u001b[0m\n\u001b[1;32m      4\u001b[0m     \u001b[38;5;28;01mreturn\u001b[39;00m [token \u001b[38;5;28;01mfor\u001b[39;00m token \u001b[38;5;129;01min\u001b[39;00m tokens \u001b[38;5;28;01mif\u001b[39;00m token \u001b[38;5;129;01min\u001b[39;00m [\u001b[38;5;124m\"\u001b[39m\u001b[38;5;124mzoom\u001b[39m\u001b[38;5;124m\"\u001b[39m, \u001b[38;5;124m\"\u001b[39m\u001b[38;5;124mdelhi\u001b[39m\u001b[38;5;124m\"\u001b[39m]]\n\u001b[1;32m      6\u001b[0m \u001b[38;5;66;03m# Filter tokens for keywords\u001b[39;00m\n\u001b[0;32m----> 7\u001b[0m important_keywords1 \u001b[38;5;241m=\u001b[39m filter_keywords(\u001b[43mkeywords1\u001b[49m)\n\u001b[1;32m      8\u001b[0m important_keywords2 \u001b[38;5;241m=\u001b[39m filter_keywords(keywords2)\n\u001b[1;32m     10\u001b[0m \u001b[38;5;28mprint\u001b[39m(important_keywords1)  \u001b[38;5;66;03m# [\"zoom\", \"delhi\"]\u001b[39;00m\n",
      "\u001b[0;31mNameError\u001b[0m: name 'keywords1' is not defined"
     ]
    }
   ],
   "source": [
    "# Extract important keywords (manual filtering for this example)\n",
    "def filter_keywords(tokens):\n",
    "    # Assuming \"zoom\" and any proper nouns (like \"delhi\") are important\n",
    "    return [token for token in tokens if token in [\"zoom\", \"delhi\"]]\n",
    "\n",
    "# Filter tokens for keywords\n",
    "important_keywords1 = filter_keywords(keywords1)\n",
    "important_keywords2 = filter_keywords(keywords2)\n",
    "\n",
    "print(important_keywords1)  # [\"zoom\", \"delhi\"]\n",
    "print(important_keywords2)  # [\"zoom\", \"delhi\"]"
   ]
  },
  {
   "cell_type": "code",
   "execution_count": null,
   "id": "bb2f3906-f9b1-41af-a161-a8ab444f91dd",
   "metadata": {},
   "outputs": [],
   "source": []
  },
  {
   "cell_type": "code",
   "execution_count": null,
   "id": "3f9e5775-43ce-4d51-b575-a0ddbbdc06de",
   "metadata": {},
   "outputs": [],
   "source": []
  }
 ],
 "metadata": {
  "kernelspec": {
   "display_name": "Python 3 (ipykernel)",
   "language": "python",
   "name": "python3"
  },
  "language_info": {
   "codemirror_mode": {
    "name": "ipython",
    "version": 3
   },
   "file_extension": ".py",
   "mimetype": "text/x-python",
   "name": "python",
   "nbconvert_exporter": "python",
   "pygments_lexer": "ipython3",
   "version": "3.10.12"
  }
 },
 "nbformat": 4,
 "nbformat_minor": 5
}
