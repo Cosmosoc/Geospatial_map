{
 "cells": [
  {
   "cell_type": "code",
   "execution_count": 71,
   "id": "57942ca2-0f04-4163-84de-a727f4f3ccf8",
   "metadata": {},
   "outputs": [
    {
     "name": "stderr",
     "output_type": "stream",
     "text": [
      "No model was supplied, defaulted to dbmdz/bert-large-cased-finetuned-conll03-english and revision 4c53496 (https://huggingface.co/dbmdz/bert-large-cased-finetuned-conll03-english).\n",
      "Using a pipeline without specifying a model name and revision in production is not recommended.\n",
      "Some weights of the model checkpoint at dbmdz/bert-large-cased-finetuned-conll03-english were not used when initializing BertForTokenClassification: ['bert.pooler.dense.bias', 'bert.pooler.dense.weight']\n",
      "- This IS expected if you are initializing BertForTokenClassification from the checkpoint of a model trained on another task or with another architecture (e.g. initializing a BertForSequenceClassification model from a BertForPreTraining model).\n",
      "- This IS NOT expected if you are initializing BertForTokenClassification from the checkpoint of a model that you expect to be exactly identical (initializing a BertForSequenceClassification model from a BertForSequenceClassification model).\n",
      "/home/sds/geospatial-map/lib/python3.10/site-packages/transformers/pipelines/token_classification.py:170: UserWarning: `grouped_entities` is deprecated and will be removed in version v5.0.0, defaulted to `aggregation_strategy=\"simple\"` instead.\n",
      "  warnings.warn(\n"
     ]
    }
   ],
   "source": [
    "from transformers import pipeline\n",
    "from opencage.geocoder import OpenCageGeocode\n",
    "from transformers import pipeline\n",
    "import nltk\n",
    "from nltk.corpus import stopwords\n",
    "import re\n",
    "import torch\n",
    "from transformers import BertTokenizer, BertModel\n",
    "from sklearn.metrics.pairwise import cosine_similarity\n",
    "from sentence_transformers import SentenceTransformer\n",
    "from sklearn.metrics.pairwise import cosine_similarity\n",
    "\n",
    "\n",
    "ner = pipeline(\"ner\", grouped_entities=True)"
   ]
  },
  {
   "cell_type": "code",
   "execution_count": 72,
   "id": "ac6ad3c7-91af-4438-a3ad-1c6d819a621b",
   "metadata": {},
   "outputs": [],
   "source": [
    "# ZOOM IN \n",
    "#commands = [\n",
    "#     \"zoom in to Delhi\",\n",
    "#     \"magnify to Bangalore\",\n",
    "#     \"zoom to Delhi\"    \n",
    "# ]"
   ]
  },
  {
   "cell_type": "code",
   "execution_count": 76,
   "id": "29691263-236d-48a5-93f6-5fbb58f6bd31",
   "metadata": {},
   "outputs": [],
   "source": [
    "#ZOOM  OUT\n",
    "# commands = [\n",
    "#     \"zoom out to Delhi\",\n",
    "#     \"minimize to bangalore\",\n",
    "#     \"get me out of Delhi\"\n",
    "# ]"
   ]
  },
  {
   "cell_type": "code",
   "execution_count": 78,
   "id": "85275ce2-aac3-4f07-b5fd-408cf14c52a2",
   "metadata": {},
   "outputs": [],
   "source": [
    "#SEARCH\n",
    "# commands = [\n",
    "#     \"search for Delhi\",\n",
    "#     \"show me Bangalore\",\n",
    "#     \"find Delhi\"\n",
    "# ]\n"
   ]
  },
  {
   "cell_type": "code",
   "execution_count": 80,
   "id": "387a7757-78b8-4157-95d5-c1dfb552c4d7",
   "metadata": {},
   "outputs": [],
   "source": [
    "#Directions\n",
    "\n",
    "# commands = [\n",
    "#     \"direct me to Delhi\",\n",
    "#     \"show me the way to Bangalore\",\n",
    "#     \"How to reach Delhi?\"\n",
    "# ]"
   ]
  },
  {
   "cell_type": "code",
   "execution_count": 84,
   "id": "c9df7443-cf0e-43db-9637-27ec6dcdedf1",
   "metadata": {},
   "outputs": [],
   "source": [
    "# #clear\n",
    "\n",
    "# commands= [\n",
    "#     \"Clear Map\",\n",
    "#     \"Go to home page\",\n",
    "#     \"Reset the map\"\n",
    "# ]"
   ]
  },
  {
   "cell_type": "code",
   "execution_count": 90,
   "id": "3cd8e7c9-5e04-4803-891e-2a310ba08f97",
   "metadata": {},
   "outputs": [],
   "source": [
    "#MARKING\n",
    "\n",
    "# commands= [\n",
    "#     \"Choose Delhi\",\n",
    "#     \"Pick bangalore\",\n",
    "# ]\n"
   ]
  },
  {
   "cell_type": "code",
   "execution_count": 96,
   "id": "05fabf16-ca9c-4d15-b739-09c3b44d2775",
   "metadata": {},
   "outputs": [],
   "source": [
    "#SWITCH\n",
    "commands = [\n",
    "    \"change maps\",\n",
    "    \"swap maps\"\n",
    "]"
   ]
  },
  {
   "cell_type": "code",
   "execution_count": 73,
   "id": "a143ee04-6bb7-4ac8-a099-d843c18ac7e3",
   "metadata": {},
   "outputs": [],
   "source": [
    "\n",
    "# Initialize with your API key\n",
    "key = '0188553be00944a0954333a31eae57d9'\n",
    "geocoder = OpenCageGeocode(key)"
   ]
  },
  {
   "cell_type": "code",
   "execution_count": 64,
   "id": "83d653d7-aeee-438e-8919-a2c20a9d7692",
   "metadata": {},
   "outputs": [],
   "source": [
    "#CO-ORDINATES"
   ]
  },
  {
   "cell_type": "code",
   "execution_count": 74,
   "id": "18728f43-2c91-49da-a383-1d017a3a8ab3",
   "metadata": {},
   "outputs": [
    {
     "name": "stdout",
     "output_type": "stream",
     "text": [
      "\n",
      "Processing command: 'zoom in to Delhi'\n",
      "Entity: Delhi, Type: LOC, Confidence: 0.9995\n",
      "28.6273928 77.1716954\n",
      "\n",
      "Processing command: 'magnify to Bangalore'\n",
      "Entity: Bangalore, Type: LOC, Confidence: 0.9986\n",
      "12.9767936 77.590082\n",
      "\n",
      "Processing command: 'zoom to Delhi'\n",
      "Entity: Delhi, Type: LOC, Confidence: 0.9994\n",
      "28.6273928 77.1716954\n"
     ]
    }
   ],
   "source": [
    "for command in commands:\n",
    "    print(f\"\\nProcessing command: '{command}'\")\n",
    "    ner_results = ner(command)\n",
    "    \n",
    "    # Loop through NER results and handle locations\n",
    "    for entity in ner_results:\n",
    "        print(f\"Entity: {entity['word']}, Type: {entity['entity_group']}, Confidence: {entity['score']:.4f}\")\n",
    "        \n",
    "        # Check if the entity type is a location\n",
    "        if entity['entity_group'] == 'LOC':\n",
    "            result = geocoder.geocode(entity['word'])\n",
    "            if result:\n",
    "                location = result[0]['geometry']\n",
    "                print(location['lat'], location['lng'])\n",
    "\n",
    "        else:\n",
    "            print(f\"Skipping non-location entity: {entity['word']}\")\n"
   ]
  },
  {
   "cell_type": "code",
   "execution_count": 66,
   "id": "22d6adc3-1043-4e20-a910-a141d8fd4ed7",
   "metadata": {},
   "outputs": [],
   "source": [
    "# def remove_ner_entities(command):\n",
    "#     ner_results = ner(command)\n",
    "#     # Extracting the entities\n",
    "#     entities = [entity['word'] for entity in ner_results]\n",
    "#     # Removing entities from command\n",
    "#     for entity in entities:\n",
    "#         command = command.replace(entity, '').strip()\n",
    "#     return command\n"
   ]
  },
  {
   "cell_type": "code",
   "execution_count": 69,
   "id": "1c14eb3d-e5d5-4c23-8929-14a11f7e3f3e",
   "metadata": {},
   "outputs": [],
   "source": [
    "# cleaned_commands = []    \n",
    "# # Process commands\n",
    "# for command in commands:\n",
    "#     cleaned_command = remove_ner_entities(command)\n",
    "#     cleaned_command = re.sub(r'\\bzoom in\\b', 'zoom_in', cleaned_command, flags=re.IGNORECASE)    # Store cleaned command\n",
    "#     cleaned_command = re.sub(r'\\bzoom out\\b', 'zoom_out', cleaned_command, flags=re.IGNORECASE)    # Store cleaned command\n",
    "\n",
    "#     cleaned_commands.append(cleaned_command)\n",
    "\n",
    "#     print(f\"Original Command: '{command}' => Cleaned Command: '{cleaned_command}'\")"
   ]
  },
  {
   "cell_type": "code",
   "execution_count": 97,
   "id": "6b65c239-2c1a-4991-a510-77ec9f8a6736",
   "metadata": {},
   "outputs": [
    {
     "name": "stdout",
     "output_type": "stream",
     "text": [
      "Command: 'change maps' => Keyword: 'switch' (Similarity: 0.5237)\n",
      "Command: 'swap maps' => Keyword: 'switch' (Similarity: 0.4664)\n"
     ]
    }
   ],
   "source": [
    "\n",
    "\n",
    "# Load SBERT model for sentence embeddings\n",
    "model = SentenceTransformer('paraphrase-MiniLM-L6-v2')\n",
    "\n",
    "# Define target actions\n",
    "target_actions = {\n",
    "    \"zoom_in\": [\"zoom in\", \"magnify\", \"enlarge\"],\n",
    "    \"zoom_out\": [\"zoom out\", \"minimize\"],\n",
    "    \"directions\": [\"find directions\", \"navigate\", \"directions\"],\n",
    "    \"search\": [\"search\", \"look for\"],\n",
    "    \"reset\": [\"reset\",\"clear\"],\n",
    "    \"mark\": [\"mark\",\"select\",\"set pin\",\"highlight\"],\n",
    "    \"switch\": [\"switch\",\"change\"]\n",
    "    #exit?\n",
    "}\n",
    "\n",
    "# Get embeddings for target action phrases\n",
    "target_embeddings = {key: model.encode(phrases) for key, phrases in target_actions.items()}\n",
    "\n",
    "def get_best_match(command):\n",
    "    command_embedding = model.encode(command)\n",
    "    best_match = None\n",
    "    highest_similarity = 0.0\n",
    "    \n",
    "    for action, embeddings in target_embeddings.items():\n",
    "        # Calculate similarity for each target action's embedding list\n",
    "        similarities = [cosine_similarity([command_embedding], [embed])[0][0] for embed in embeddings]\n",
    "        max_similarity = max(similarities)\n",
    "        \n",
    "        if max_similarity > highest_similarity:\n",
    "            highest_similarity = max_similarity\n",
    "            best_match = action\n",
    "    \n",
    "    return best_match, highest_similarity\n",
    "\n",
    "for command in commands:\n",
    "    best_match, similarity = get_best_match(command)\n",
    "    print(f\"Command: '{command}' => Keyword: '{best_match}' (Similarity: {similarity:.4f})\")\n"
   ]
  },
  {
   "cell_type": "code",
   "execution_count": null,
   "id": "10750543-9e21-47a8-bca3-99372273c575",
   "metadata": {},
   "outputs": [],
   "source": []
  }
 ],
 "metadata": {
  "kernelspec": {
   "display_name": "Python 3 (ipykernel)",
   "language": "python",
   "name": "python3"
  },
  "language_info": {
   "codemirror_mode": {
    "name": "ipython",
    "version": 3
   },
   "file_extension": ".py",
   "mimetype": "text/x-python",
   "name": "python",
   "nbconvert_exporter": "python",
   "pygments_lexer": "ipython3",
   "version": "3.10.12"
  }
 },
 "nbformat": 4,
 "nbformat_minor": 5
}
